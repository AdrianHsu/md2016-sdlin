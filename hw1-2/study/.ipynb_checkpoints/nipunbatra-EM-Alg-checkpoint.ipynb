{
 "cells": [
  {
   "cell_type": "markdown",
   "metadata": {},
   "source": [
    "Expecation Maximization\n",
    "===="
   ]
  },
  {
   "cell_type": "code",
   "execution_count": 48,
   "metadata": {
    "collapsed": false
   },
   "outputs": [],
   "source": [
    "import os\n",
    "import sys\n",
    "import glob\n",
    "import seaborn as sns\n",
    "import matplotlib.pyplot as plt\n",
    "import numpy as np\n",
    "import pandas as pdn\n",
    "%matplotlib inline\n",
    "plt.style.use('ggplot')\n",
    "np.random.seed(1234)\n",
    "np.set_printoptions(formatter={'all':lambda x: '%.3f' % x})"
   ]
  },
  {
   "cell_type": "code",
   "execution_count": 52,
   "metadata": {
    "collapsed": false
   },
   "outputs": [
    {
     "data": {
      "image/png": "[encoded data removed]",
      "text/latex": [
       "$$- \\frac{1}{x^{2}}$$"
      ],
      "text/plain": [
       "-1 \n",
       "───\n",
       "  2\n",
       " x "
      ]
     },
     "execution_count": 52,
     "metadata": {},
     "output_type": "execute_result"
    }
   ],
   "source": [
    "x = symbols('x')\n",
    "diff(log(x), x, 2)"
   ]
  },
  {
   "cell_type": "code",
   "execution_count": null,
   "metadata": {
    "collapsed": false
   },
   "outputs": [],
   "source": []
  },
  {
   "cell_type": "markdown",
   "metadata": {},
   "source": [
    "When is Jensen's inequality an equality? From the diagram, we can see that this only happens if the function $f(x)$ is a constant! We will make use of this fact later on in the lecture."
   ]
  },
  {
   "cell_type": "markdown",
   "metadata": {},
   "source": [
    "Maximum likelihood with complete information\n",
    "----\n",
    "\n",
    "Consider an experiment with coin $A$ that has a probability $\\theta_A$ of heads, and a coin $B$ that has a probability $\\theta_B$ of tails. We draw $m$ samples as follows - for each sample, pick one of the coins, flip it 10 times, and record the number of heads and tails. If we recorded which coin we used for each sample, we have *complete* information and can estimate $\\theta_A$ and $\\theta_B$ in closed form. To be very explicit, suppose we drew 5 samples with the $m$ values represented as a vector $x$, and the sequence of coins chosen was $A, A, B, A, B$. Then the complete log likelihood is \n",
    "\n",
    "$$\n",
    "\\log p(x_1; \\theta_A) + \\log p(x_2; \\theta_A) +\\ log p(x_3; \\theta_B) + \\log p(x_4; \\theta_A) +\\log p(x_5; \\theta_B)\n",
    "$$\n",
    "\n",
    "where $p(x_i; \\theta)$ is the binomial distribution PMF with $n=m$ and $p=\\theta$. We will use $z_i$ to indicate the label of the $i^\\text{th}$ coin, that is - whether we used coin $A$ or $B$ to generate the $i^\\text{th}$ sample."
   ]
  },
  {
   "cell_type": "markdown",
   "metadata": {},
   "source": [
    "### Solving for complete likelihood using minimization"
   ]
  },
  {
   "cell_type": "code",
   "execution_count": 53,
   "metadata": {
    "collapsed": false
   },
   "outputs": [],
   "source": [
    "def neg_loglik(thetas, n, xs, zs):\n",
    "    return -np.sum([binom(n, thetas[z]).logpmf(x) for (x, z) in zip(xs, zs)])"
   ]
  },
  {
   "cell_type": "code",
   "execution_count": 54,
   "metadata": {
    "collapsed": false
   },
   "outputs": [
    {
     "data": {
      "text/plain": [
       "[7, 9, 2, 6, 0]"
      ]
     },
     "execution_count": 54,
     "metadata": {},
     "output_type": "execute_result"
    }
   ],
   "source": [
    "m = 10\n",
    "theta_A = 0.8\n",
    "theta_B = 0.3\n",
    "theta_0 = [theta_A, theta_B]\n",
    "\n",
    "coin_A = bernoulli(theta_A)\n",
    "coin_B = bernoulli(theta_B)\n",
    "\n",
    "flips = np.array([coin_A.rvs(m), \n",
    "                  coin_A.rvs(m), \n",
    "                  coin_B.rvs(m), \n",
    "                  coin_A.rvs(m), \n",
    "                  coin_B.rvs(m)])\n",
    "xs = flips.sum(1)\n",
    "zs = np.array([0,0,1,0,1])\n",
    "list(xs)"
   ]
  },
  {
   "cell_type": "markdown",
   "metadata": {},
   "source": [
    "#### Analytic solution"
   ]
  },
  {
   "cell_type": "code",
   "execution_count": 55,
   "metadata": {
    "collapsed": false
   },
   "outputs": [
    {
     "data": {
      "image/png": "[encoded data removed]",
      "text/latex": [
       "$$0.733333333333$$"
      ],
      "text/plain": [
       "0.733333333333"
      ]
     },
     "execution_count": 55,
     "metadata": {},
     "output_type": "execute_result"
    }
   ],
   "source": [
    "np.mean(xs[zs==0]/m)"
   ]
  },
  {
   "cell_type": "code",
   "execution_count": 56,
   "metadata": {
    "collapsed": false
   },
   "outputs": [
    {
     "data": {
      "image/png": "[encoded data removed]",
      "text/latex": [
       "$$0.1$$"
      ],
      "text/plain": [
       "0.1"
      ]
     },
     "execution_count": 56,
     "metadata": {},
     "output_type": "execute_result"
    }
   ],
   "source": [
    "np.mean(xs[zs==1]/m)"
   ]
  },
  {
   "cell_type": "markdown",
   "metadata": {},
   "source": [
    "#### Finding parameters by optimization"
   ]
  },
  {
   "cell_type": "code",
   "execution_count": 57,
   "metadata": {
    "collapsed": false
   },
   "outputs": [
    {
     "data": {
      "text/plain": [
       "     fun: 7.6552677541114456\n",
       "     jac: array([0.000, -0.000])\n",
       " message: 'Converged (|f_n-f_(n-1)| ~= 0)'\n",
       "    nfev: 19\n",
       "     nit: 7\n",
       "  status: 1\n",
       " success: True\n",
       "       x: array([0.733, 0.100])"
      ]
     },
     "execution_count": 57,
     "metadata": {},
     "output_type": "execute_result"
    }
   ],
   "source": [
    "bnds = [(0,1), (0,1)]\n",
    "minimize(neg_loglik, [0.5, 0.5], args=(m, xs, zs), \n",
    "         bounds=bnds, method='tnc', options={'maxiter': 100})"
   ]
  },
  {
   "cell_type": "markdown",
   "metadata": {},
   "source": [
    "Incomplete information\n",
    "----"
   ]
  },
  {
   "cell_type": "markdown",
   "metadata": {},
   "source": [
    "However, if we did not record the coin we used, we have *missing* data and the problem is harder to solve. One way to approach the problem is to ask - can we assign weights $w_i$ to each sample according to how likely it is to be generated from coin $A$ or coin $B$? Intuitively, it seems that the weights should be the posterior distribution of $z_i$, that is\n",
    "\n",
    "$$\n",
    "w_i = p(z_i \\ | \\ x_i; \\theta)\n",
    "$$\n",
    "\n",
    "Assuming we have some estimate of $\\theta$, if we know $z_i$, then we can estimate $\\theta$ since we have the complete likelihood as above. So the basic idea behind Expectation Maximization (EM) is simply to start with a guess for $\\theta$, then calculate $z$, then update $\\theta$ using this new value for $z$, and repeat till convergence. The derivation below shows why the EM algorithm using this \"alternating\" updates actually works.\n",
    "\n",
    "A verbal outline of the derivation - first consider the log likelihood function as a curve (surface) where the x-axis is $\\theta$. Find another function $Q$ of $\\theta$ that is a lower bound of the log-likelihood but touches the log likelihood function at some $\\theta$ (E-step). Next find the value of $\\theta$ that maximizes this function (M-step). Now find yet another function of $\\theta$ that is a lower bound of the log-likelihood but touches the log likelihood function at this new $\\theta$. Repeat until convergence - at this point, the maxima of the lower bound and likelihood functions are the same and we have found the maximum log likelihood. See illustration below. "
   ]
  },
  {
   "cell_type": "code",
   "execution_count": 58,
   "metadata": {
    "collapsed": false
   },
   "outputs": [],
   "source": [
    "# Image from http://www.nature.com/nbt/journal/v26/n8/extref/nbt1406-S1.pdf\n"
   ]
  },
  {
   "cell_type": "markdown",
   "metadata": {},
   "source": [
    "The only remaining step is how to find the functions that are lower bounds of the log likelihood. This will require a little math using Jensen's inequality, and is shown in the next section."
   ]
  },
  {
   "cell_type": "markdown",
   "metadata": {},
   "source": [
    "### Derivation\n",
    "\n",
    "In the E-step, we identify a function which is a lower bound for the log-likelihood\n",
    "\n",
    "$$\n",
    "\\begin{align}\n",
    "l &= \\sum_i{\\log p(x_i; \\theta)} && \\text{definition of log likelihood} \\\\\n",
    "&= \\sum_i \\log \\sum_{z_i}{p(x_i, z_i; \\theta)} && \\text{augment with latent variables $z$} \\\\\n",
    "&= \\sum_i \\log \\sum_{z_i} Q_i(z_i) \\frac{p(x_i, z_i; \\theta)}{Q_i(z_i)} && \\text{$Q_i$ is a distribution for $z_i$} \\\\\n",
    "&= \\sum_i \\log E_{z_i}[\\frac{p(x_i, z_i; \\theta)}{Q_i(z_i)}] && \\text{taking expectations - hence the E in EM} \\\\\n",
    "&\\geq \\sum E_{z_i}[\\log \\frac{p(x_i, z_i; \\theta)}{Q_i(z_i)}] && \\text{Using Jensen's rule for $\\log$ which is concave} \\\\\n",
    "&\\geq \\sum_i \\sum_{z_i} Q_i(z_i) \\log \\frac{p(x_i, z_i; \\theta)}{Q_i(z_i)} && \\text{definition of expectation}\n",
    "\\end{align}\n",
    "$$\n",
    "\n",
    "How do we choose the distribution $Q_i$? We want the Q function to touch the log-likelihood, and know that Jensen's inequality is an equality only if the function is constant. So\n",
    "\n",
    "$$\n",
    "\\begin{align}\n",
    "\\frac{p(x_i, z_i; \\theta)}{Q_i(z_i)} =& c \\\\\n",
    "\\implies Q_i(z_i) &\\propto p(x_i, z_i; \\theta)\\\\\n",
    "\\implies Q_i(z_i) &= \\frac{p(x_i, z_i; \\theta) }{\\sum_{z_i}{p(x_i, z_i; \\theta)}} &&\\text{Since $Q$ is a distribution and sums to 1} \\\\\n",
    "\\implies Q_i(z_i) &= \\frac{p(x_i, z_i; \\theta) }{{p(x_i, \\theta)}} && \\text{marginalizing $z_i$}\\\\\n",
    "\\implies Q_i(z_i) &= p(z_i | x_i; \\theta) && \\text{by definition of conditional probability}\n",
    "\\end{align}\n",
    "$$\n",
    "\n",
    "So $Q_i$ is just the posterior distribution of $z_i$, and this completes the E-step.\n",
    "\n",
    "In the M-step, we find the value of $\\theta$ that maximizes the function that is the lower bound of the log likelihood ($g$ in the figure above), and then we iterate over the E and M steps until convergence. \n",
    "\n",
    "So we see that EM is an algorithm for maximum likelihood optimization when there is missing information - or when it is useful to add latent augmented variables to simplify maximum likelihood calculations."
   ]
  },
  {
   "cell_type": "markdown",
   "metadata": {},
   "source": [
    "#### Coin toss example from [What is the expectation maximization algorithm?](http://www.nature.com/nbt/journal/v26/n8/full/nbt1406.html)"
   ]
  },
  {
   "cell_type": "markdown",
   "metadata": {},
   "source": [
    "For the E-step, we have\n",
    "\n",
    "$$\n",
    "\\begin{align}\n",
    "w_j &= Q_i(z_i = j) \\\\\n",
    "&= p(z_i = j \\mid x_i; \\theta) \\\\\n",
    "&= \\frac{p(x_i \\mid z_i = j; \\theta) p(z_i = j; \\phi)}  {\\sum_{l=1}^k{p(x_i \\mid z_i = l; \\theta) p(z_i = l; \\phi)}}  && \\text{Baye's rule} \\\\\n",
    "&= \\frac{\\theta_j^h(1-\\theta_j)^{n-h} \\phi_j}{\\sum_{l=1}^k \\theta_l^h(1-\\theta_l)^{n-h} \\phi_l} && \\text{Binomial distribution} \\\\\n",
    "&= \\frac{\\theta_j^h(1-\\theta_j)^{n-h} }{\\sum_{l=1}^k \\theta_l^h(1-\\theta_l)^{n-h} } && \\text{assume $\\phi$ is fixed for simplicity}\n",
    "\\end{align}\n",
    "$$\n",
    "\n",
    "For the M-step, we need to find the value of $\\theta$ that maximizes\n",
    "\n",
    "$$\n",
    "\\begin{align}\n",
    "& \\sum_i \\sum_{z_i} Q_i(z_i) \\log \\frac{p(x_i, z_i; \\theta)}{Q_i(z_i)} \\\\\n",
    "&= \\sum_{i=1}^m \\sum_{j=1}^k w_j \\log \\frac{p(x_i \\mid z_i=j; \\theta) \\, p(z_i = j; \\phi)}{w_j} \\\\\n",
    "&= \\sum_{i=1}^m \\sum_{j=1}^k w_j \\log \\frac{\\theta_j^h(1-\\theta_j)^{n-h} \\phi_j}{w_j} \\\\\n",
    "&= \\sum_{i=1}^m \\sum_{j=1}^k w_j \\left( h \\log \\theta_j + (n-h) \\log (1-\\theta_j) + \\log \\phi_j - \\log w_j \\right)\n",
    "\\end{align}\n",
    "$$\n",
    "\n",
    "We can differentiate and solve for $\\theta_s$ where the derivative vanishes\n",
    "\n",
    "$$\n",
    "\\begin{align}\n",
    "\\sum_{i=1}^m w_s \\left( \\frac{h}{\\theta_s} - \\frac{n-h}{1-\\theta_s} \\right) &= 0  \\\\\n",
    "\\implies \\theta_s &= \\frac {\\sum_{i=1}^m w_s h}{\\sum_{i=1}^m w_s n}\n",
    "\\end{align}\n",
    "$$"
   ]
  },
  {
   "cell_type": "markdown",
   "metadata": {},
   "source": [
    "### First explicit solution"
   ]
  },
  {
   "cell_type": "code",
   "execution_count": 59,
   "metadata": {
    "collapsed": false
   },
   "outputs": [],
   "source": [
    "def mn_ll(y, theta, axis=None):\n",
    "    \"\"\"Log likelihood for multinomial distribution (ignoring constant).\"\"\"\n",
    "    return np.sum(y * np.log(theta), axis=axis)\n",
    "\n",
    "def ll(y, theta, p):\n",
    "    \"\"\"Complete log likelihood for mixture.\"\"\"\n",
    "    return np.sum(p * mm_ll(y, theta))\n",
    "\n",
    "def normalize(xs, axis=1):\n",
    "    \"\"\"Return normalized marirx so that sum of row or column (default) entries = 1.\"\"\"\n",
    "    if axis==0:\n",
    "        return xs/xs.sum(0)\n",
    "    else:\n",
    "        return xs/xs.sum(1)[:, None]"
   ]
  },
  {
   "cell_type": "code",
   "execution_count": 60,
   "metadata": {
    "collapsed": false
   },
   "outputs": [
    {
     "name": "stdout",
     "output_type": "stream",
     "text": [
      "Iteration: 1\n",
      "theta_A = 0.71, theta_B = 0.58, ll = -32.69\n",
      "Iteration: 2\n",
      "theta_A = 0.75, theta_B = 0.57, ll = -31.26\n",
      "Iteration: 3\n",
      "theta_A = 0.77, theta_B = 0.55, ll = -30.76\n",
      "Iteration: 4\n",
      "theta_A = 0.78, theta_B = 0.53, ll = -30.33\n",
      "Iteration: 5\n",
      "theta_A = 0.79, theta_B = 0.53, ll = -30.07\n",
      "Iteration: 6\n",
      "theta_A = 0.79, theta_B = 0.52, ll = -29.95\n",
      "Iteration: 7\n",
      "theta_A = 0.80, theta_B = 0.52, ll = -29.90\n",
      "Iteration: 8\n",
      "theta_A = 0.80, theta_B = 0.52, ll = -29.88\n",
      "Iteration: 9\n",
      "theta_A = 0.80, theta_B = 0.52, ll = -29.87\n"
     ]
    }
   ],
   "source": [
    "xs = np.array([(5,5), (9,1), (8,2) , (4,6), (7,3)])\n",
    "thetas = np.array([[0.6, 0.4], [0.5, 0.5]])\n",
    "\n",
    "tol = 0.01\n",
    "max_iter = 100\n",
    "\n",
    "ll_old = 0\n",
    "for i in range(max_iter):\n",
    "    exp_A = []\n",
    "    exp_B = []\n",
    "    \n",
    "    lls_A = []\n",
    "    lls_B = []\n",
    "    \n",
    "    ws_A = []\n",
    "    ws_B = []\n",
    "    \n",
    "    ll_new = 0\n",
    "\n",
    "    # E-step: calculate probability distributions over possible completions\n",
    "    for x in xs:\n",
    "\n",
    "        ll_A = mn_ll(x, thetas[0])\n",
    "        ll_B = mn_ll(x, thetas[1])\n",
    "      \n",
    "        lls_A.append(ll_A)\n",
    "        lls_B.append(ll_B)\n",
    "        \n",
    "        denom = np.exp(ll_A) + np.exp(ll_B)       \n",
    "        w_A = np.exp(ll_A)/denom\n",
    "        w_B = np.exp(ll_B)/denom\n",
    "        \n",
    "        ws_A.append(w_A)\n",
    "        ws_B.append(w_B)\n",
    "\n",
    "        exp_A.append(np.dot(w_A, x))\n",
    "        exp_B.append(np.dot(w_B, x))\n",
    "        \n",
    "        # update complete log likelihood\n",
    "        ll_new += w_A * ll_A + w_B * ll_B\n",
    "    \n",
    "    # M-step: update values for parameters given current distribution\n",
    "    thetas[0] = np.sum(exp_A, 0)/np.sum(exp_A)\n",
    "    thetas[1] = np.sum(exp_B, 0)/np.sum(exp_B)\n",
    "\n",
    "    # print distribution of z for each x and current parameter estimate \n",
    "    print(\"Iteration: %d\" % (i+1))\n",
    "    print(\"theta_A = %.2f, theta_B = %.2f, ll = %.2f\" % (thetas[0,0], thetas[1,0], ll_new))\n",
    "\n",
    "    if np.abs(ll_new - ll_old) < tol:\n",
    "        break\n",
    "    ll_old = ll_new"
   ]
  },
  {
   "cell_type": "markdown",
   "metadata": {},
   "source": [
    "### Vectorizing ..."
   ]
  },
  {
   "cell_type": "code",
   "execution_count": 61,
   "metadata": {
    "collapsed": false
   },
   "outputs": [
    {
     "name": "stdout",
     "output_type": "stream",
     "text": [
      "Iteration: 1\n",
      "theta_A = 0.71, theta_B = 0.58, ll = -32.69\n",
      "Iteration: 2\n",
      "theta_A = 0.75, theta_B = 0.57, ll = -31.26\n",
      "Iteration: 3\n",
      "theta_A = 0.77, theta_B = 0.55, ll = -30.76\n",
      "Iteration: 4\n",
      "theta_A = 0.78, theta_B = 0.53, ll = -30.33\n",
      "Iteration: 5\n",
      "theta_A = 0.79, theta_B = 0.53, ll = -30.07\n",
      "Iteration: 6\n",
      "theta_A = 0.79, theta_B = 0.52, ll = -29.95\n",
      "Iteration: 7\n",
      "theta_A = 0.80, theta_B = 0.52, ll = -29.90\n",
      "Iteration: 8\n",
      "theta_A = 0.80, theta_B = 0.52, ll = -29.88\n",
      "Iteration: 9\n",
      "theta_A = 0.80, theta_B = 0.52, ll = -29.87\n"
     ]
    }
   ],
   "source": [
    "xs = np.array([(5,5), (9,1), (8,2), (4,6), (7,3)])\n",
    "thetas = np.array([[0.6, 0.4], [0.5, 0.5]])\n",
    "\n",
    "tol = 0.01\n",
    "max_iter = 100\n",
    "\n",
    "ll_old = -np.infty\n",
    "for i in range(max_iter):\n",
    "    ll_A = np.sum(xs * np.log(thetas[0]), axis=1)\n",
    "    ll_B = np.sum(xs * np.log(thetas[1]), axis=1)\n",
    "    denom = np.exp(ll_A) + np.exp(ll_B)\n",
    "    w_A = np.exp(ll_A)/denom\n",
    "    w_B = np.exp(ll_B)/denom\n",
    "\n",
    "    exp_A = w_A[:, None] * xs\n",
    "    exp_B = w_B[:, None] * xs\n",
    "    \n",
    "    thetas[0] = np.sum(exp_A, 0)/np.sum(exp_A)\n",
    "    thetas[1] = np.sum(exp_B, 0)/np.sum(exp_B)\n",
    "\n",
    "    ll_new = w_A.dot(ll_A) + w_B.dot(ll_B)\n",
    "    \n",
    "    print(\"Iteration: %d\" % (i+1))\n",
    "    print(\"theta_A = %.2f, theta_B = %.2f, ll = %.2f\" % (thetas[0,0], thetas[1,0], ll_new))\n",
    "    \n",
    "    if np.abs(ll_new - ll_old) < tol:\n",
    "        break\n",
    "    ll_old = ll_new"
   ]
  },
  {
   "cell_type": "markdown",
   "metadata": {},
   "source": [
    "### Writing as a function"
   ]
  },
  {
   "cell_type": "code",
   "execution_count": 62,
   "metadata": {
    "collapsed": false
   },
   "outputs": [],
   "source": [
    "def em(xs, thetas, max_iter=100, tol=1e-6):\n",
    "    \"\"\"Expectation-maximization for coin sample problem.\"\"\"\n",
    "    \n",
    "    ll_old = -np.infty\n",
    "    for i in range(max_iter):\n",
    "        ll = np.array([np.sum(xs * np.log(theta), axis=1) for theta in thetas])    \n",
    "        lik = np.exp(ll)\n",
    "        ws = lik/lik.sum(0)\n",
    "        exps = np.array([w[:, None] * xs for w in ws])\n",
    "        thetas = np.array([expr.sum(0)/expr.sum() for expr in exps])\n",
    "        ll_new = np.sum([w*l for w, l in zip(ws, ll)])\n",
    "        if np.abs(ll_new - ll_old) < tol:\n",
    "            break\n",
    "        ll_old = ll_new\n",
    "    return i, thetas, ll_new"
   ]
  },
  {
   "cell_type": "markdown",
   "metadata": {},
   "source": [
    "### Checking"
   ]
  },
  {
   "cell_type": "code",
   "execution_count": 63,
   "metadata": {
    "collapsed": false
   },
   "outputs": [
    {
     "name": "stdout",
     "output_type": "stream",
     "text": [
      "18\n",
      "[0.797 0.203]\n",
      "[0.520 0.480]\n",
      "-29.868676155\n"
     ]
    }
   ],
   "source": [
    "xs = np.array([(5,5), (9,1), (8,2), (4,6), (7,3)])\n",
    "thetas = np.array([[0.6, 0.4], [0.5, 0.5]])\n",
    "\n",
    "i, thetas, ll = em(xs, thetas)\n",
    "print(i)\n",
    "for theta in thetas:\n",
    "    print(theta)\n",
    "print(ll)"
   ]
  },
  {
   "cell_type": "markdown",
   "metadata": {},
   "source": [
    "### Make up some data"
   ]
  },
  {
   "cell_type": "code",
   "execution_count": 64,
   "metadata": {
    "collapsed": false
   },
   "outputs": [],
   "source": [
    "np.random.seed(1234)\n",
    "\n",
    "n = 100\n",
    "p0 = 0.8\n",
    "p1 = 0.35\n",
    "xs = np.concatenate([np.random.binomial(n, p0, n//2), np.random.binomial(n, p1, n//2)])\n",
    "xs = np.column_stack([xs, n-xs])\n",
    "np.random.shuffle(xs)"
   ]
  },
  {
   "cell_type": "markdown",
   "metadata": {},
   "source": [
    "### EM with multiple random starts"
   ]
  },
  {
   "cell_type": "code",
   "execution_count": 65,
   "metadata": {
    "collapsed": false
   },
   "outputs": [
    {
     "name": "stdout",
     "output_type": "stream",
     "text": [
      "4\n",
      "[0.352 0.648]\n",
      "[0.798 0.202]\n",
      "-5756.59565198\n"
     ]
    }
   ],
   "source": [
    "results = [em(xs, np.random.random((2,2))) for i in range(10)]\n",
    "i, thetas, ll =  sorted(results, key=lambda x: x[-1])[-1]\n",
    "print(i)\n",
    "for theta in thetas:\n",
    "    print(theta)\n",
    "print(ll)"
   ]
  },
  {
   "cell_type": "markdown",
   "metadata": {},
   "source": [
    "Mixture Models\n",
    "----\n",
    "\n",
    "We will start with a very simple \"mixture model\" known as k-means. The k-means algorithm does not use EM, but together with the basic understanding of how EM works from the coin toss model, may help you understand how EM for Gaussian Mixture models work."
   ]
  },
  {
   "cell_type": "markdown",
   "metadata": {},
   "source": [
    "### K-means\n",
    "\n",
    "In k-means, we start with a known number of centroids $k$, typically chosen arbitrarily from $k$ of the data points being fitted. In each iteration, we do the following:\n",
    "\n",
    "1. Find the distance of every other point to the three centroids\n",
    "2. Assign each data point to its nearest centroid\n",
    "3. Update the centroid location as the mean of the points assigned to it\n",
    "\n",
    "The code for k-means is as simple as the above description suggests (see code below). The EM algorithm for fitting a Gaussian Mixture Model is very similar, except that 1) data points are assigned a posterior probability of being associated with a cluster rather than a 0|1 assignment, and 2) we update the parameters $\\alpha_j, \\mu_j, \\Sigma_j$ for each component of the GMM rather than centroid locations (see section below).\n",
    "\n",
    "Note that both k-means and EM for GMMs can get stuck in local optima, and multiple random restarts are recommended."
   ]
  },
  {
   "cell_type": "code",
   "execution_count": 66,
   "metadata": {
    "collapsed": true
   },
   "outputs": [],
   "source": [
    "from numpy.core.umath_tests import inner1d\n",
    "\n",
    "def kmeans(xs, k, max_iter=10):\n",
    "    \"\"\"K-means algorihtm.\"\"\"\n",
    "    idx = np.random.choice(len(xs), k, replace=False)\n",
    "    cs = xs[idx]\n",
    "    for n in range(max_iter):\n",
    "        ds = np.array([inner1d(xs-c, xs-c) for c in cs])\n",
    "        zs = np.argmin(ds, axis=0)\n",
    "        cs = np.array([xs[zs==i].mean(axis=0) for i in range(k)])\n",
    "    return (cs, zs)"
   ]
  },
  {
   "cell_type": "code",
   "execution_count": 67,
   "metadata": {
    "collapsed": false
   },
   "outputs": [
    {
     "data": {
      "image/png": "[encoded data removed]",
      "text/plain": [
       "<matplotlib.figure.Figure at 0x10c672f60>"
      ]
     },
     "metadata": {},
     "output_type": "display_data"
    }
   ],
   "source": [
    "np.random.seed(123)\n",
    "\n",
    "iris = sns.load_dataset('iris')\n",
    "data = iris.ix[:, :4].values\n",
    "cs, zs = kmeans(data, 3)\n",
    "iris['cluster'] = zs\n",
    "sns.pairplot(iris, hue='cluster', diag_kind='kde', vars=iris.columns[:4])\n",
    "pass"
   ]
  },
  {
   "cell_type": "markdown",
   "metadata": {},
   "source": [
    "Gaussian mixture models\n",
    "----\n",
    "\n",
    "A mixture of $k$ Gaussians has the following PDF\n",
    "\n",
    "$$\n",
    "\\begin{align}\n",
    "p(x) = \\sum_{j=1}^k \\alpha_j \\phi(x; \\mu_j, \\Sigma_j)\n",
    "\\end{align}\n",
    "$$\n",
    "\n",
    "where $\\alpha_j$ is the weight of the $j^\\text{th}$ Gaussian component and \n",
    "\n",
    "$$\n",
    "\\begin{align}\n",
    "\\phi(x; \\mu, \\Sigma) = \\frac{1}{(2 \\pi)^{d/2}|\\Sigma|^{1/2}} \\exp \\left( -\\frac{1}{2}(x-\\mu)^T\\Sigma^{-1}(x-\\mu) \\right)\n",
    "\\end{align}\n",
    "$$\n",
    "\n",
    "Suppose we observe $y_1, y2, \\ldots, y_n$ as a sample from a mixture of Gaussians. The log-likelihood is then\n",
    "\n",
    "$$\n",
    "\\begin{align}\n",
    "l(\\theta) = \\sum_{i=1}^n \\log \\left( \\sum_{j=1}^k \\alpha_j \\phi(y_i; \\mu_j, \\Sigma_j) \\right)\n",
    "\\end{align}\n",
    "$$\n",
    "\n",
    "where $\\theta = (\\alpha, \\mu, \\Sigma)$\n",
    "\n",
    "There is no closed form for maximizing the parameters of this log-likelihood, and it is hard to maximize directly because the sum is inside the log function."
   ]
  },
  {
   "cell_type": "markdown",
   "metadata": {},
   "source": [
    "Using EM\n",
    "----\n",
    "\n",
    "Suppose we augment with the latent variable $z$ that indicates which of the $k$ Gaussians our observation $y$ came from. The derivation of the E and M steps are the same as for the toy example, only with more algebra.\n",
    "\n",
    "For the E-step, we want to calculate the posterior probability that point $x_i$ belongs in cluster $j$, given the parameters $\\theta = (\\alpha, \\mu, \\Sigma)$\n",
    "\n",
    "$$\n",
    "\\begin{align}\n",
    "w_j^i &= Q_i(z^i = j) \\\\\n",
    "&= p(z^i = j \\mid y^i; \\theta) \\\\\n",
    "&= \\frac{p(x^i \\mid z^i = j; \\mu, \\Sigma) p(z^i = j; \\alpha)}  {\\sum_{l=1}^k{p(y^i \\mid z^i = l; \\mu, \\Sigma) p(z^i = l; \\alpha)}}  && \\text{Baye's rule} \\\\\n",
    "&= \\frac{\\phi(x^i; \\mu_j, \\Sigma_j) \\alpha_j}{\\sum_{l=1}^k \\phi(x^i; \\mu_l, \\Sigma_l) \\alpha_l}\n",
    "\\end{align}\n",
    "$$\n",
    "\n",
    "For the M-step, we have to find $\\theta = (w, \\mu, \\Sigma)$ that maximizes the function that is a lower bound for the true log likelihood\n",
    "\n",
    "$$\n",
    "\\begin{align}\n",
    "\\sum_{i=1}^{m}\\sum_{j=1}^{k} Q(z^i=j) \\log \\frac{p(x^i \\mid z^i= j; \\mu, \\Sigma) p(z^i=j; \\alpha)}{Q(z^i=j)}\n",
    "\\end{align}\n",
    "$$\n",
    "\n",
    "By taking derivatives with respect to $(w, \\mu, \\Sigma)$ respectively and solving (remember to use Lagrange multipliers for the constraint that $\\sum_{j=1}^k w_j = 1$), we get\n",
    "\n",
    "$$\n",
    "\\begin{align}\n",
    "\\alpha_j &= \\frac{1}{m} \\sum_{i=1}^{m} w_j^i \\\\\n",
    "\\mu_j &= \\frac{\\sum_{i=1}^{m} w_j^i x^i}{\\sum_{i=1}^{m} w_j^i} \\\\\n",
    "\\Sigma_j &= \\frac{\\sum_{i=1}^{m} w_j^i (x^i - \\mu)(x^i - \\mu)^T}{\\sum_{i1}^{m} w_j^i}\n",
    "\\end{align}\n",
    "$$"
   ]
  },
  {
   "cell_type": "code",
   "execution_count": 68,
   "metadata": {
    "collapsed": false
   },
   "outputs": [],
   "source": [
    "from scipy.stats import multivariate_normal as mvn\n",
    "\n",
    "def normalize(xs, axis=None):\n",
    "    \"\"\"Return normalized marirx so that sum of row or column (default) entries = 1.\"\"\"\n",
    "    if axis is None:\n",
    "        return xs/xs.sum()\n",
    "    elif axis==0:\n",
    "        return xs/xs.sum(0)\n",
    "    else:\n",
    "        return xs/xs.sum(1)[:, None]\n",
    "\n",
    "def mix_mvn_pdf(xs, pis, mus, sigmas):\n",
    "    return np.array([pi*mvn(mu, sigma).pdf(xs) for (pi, mu, sigma) in zip(pis, mus, sigmas)])"
   ]
  },
  {
   "cell_type": "code",
   "execution_count": 69,
   "metadata": {
    "collapsed": false
   },
   "outputs": [],
   "source": [
    "def em_gmm_orig(xs, pis, mus, sigmas, tol=0.01, max_iter=100):\n",
    "\n",
    "    n, p = xs.shape\n",
    "    k = len(pis)\n",
    "\n",
    "    ll_old = 0\n",
    "    for i in range(max_iter):\n",
    "        exp_A = []\n",
    "        exp_B = []\n",
    "        ll_new = 0\n",
    "\n",
    "        # E-step\n",
    "        ws = np.zeros((k, n))\n",
    "        for j in range(len(mus)):\n",
    "            for i in range(n):\n",
    "                ws[j, i] = pis[j] * mvn(mus[j], sigmas[j]).pdf(xs[i])\n",
    "        ws /= ws.sum(0)\n",
    "\n",
    "        # M-step\n",
    "        pis = np.zeros(k)\n",
    "        for j in range(len(mus)):\n",
    "            for i in range(n):\n",
    "                pis[j] += ws[j, i]\n",
    "        pis /= n\n",
    "\n",
    "        mus = np.zeros((k, p))\n",
    "        for j in range(k):\n",
    "            for i in range(n):\n",
    "                mus[j] += ws[j, i] * xs[i]\n",
    "            mus[j] /= ws[j, :].sum()\n",
    "\n",
    "        sigmas = np.zeros((k, p, p))\n",
    "        for j in range(k):\n",
    "            for i in range(n):\n",
    "                ys = np.reshape(xs[i]- mus[j], (2,1))\n",
    "                sigmas[j] += ws[j, i] * np.dot(ys, ys.T)\n",
    "            sigmas[j] /= ws[j,:].sum()\n",
    "\n",
    "        # update complete log likelihoood \n",
    "        ll_new = 0.0\n",
    "        for i in range(n):\n",
    "            s = 0\n",
    "            for j in range(k):\n",
    "                s += pis[j] * mvn(mus[j], sigmas[j]).pdf(xs[i])\n",
    "            ll_new += np.log(s)\n",
    "\n",
    "        if np.abs(ll_new - ll_old) < tol:\n",
    "            break\n",
    "        ll_old = ll_new\n",
    "\n",
    "    return ll_new, pis, mus, sigmas"
   ]
  },
  {
   "cell_type": "markdown",
   "metadata": {},
   "source": [
    "Vectorized version\n",
    "----"
   ]
  },
  {
   "cell_type": "code",
   "execution_count": 70,
   "metadata": {
    "collapsed": false
   },
   "outputs": [],
   "source": [
    "def em_gmm_vect(xs, pis, mus, sigmas, tol=0.01, max_iter=100):\n",
    "\n",
    "    n, p = xs.shape\n",
    "    k = len(pis)\n",
    "\n",
    "    ll_old = 0\n",
    "    for i in range(max_iter):\n",
    "        exp_A = []\n",
    "        exp_B = []\n",
    "        ll_new = 0\n",
    "\n",
    "        # E-step\n",
    "        ws = np.zeros((k, n))\n",
    "        for j in range(k):\n",
    "            ws[j, :] = pis[j] * mvn(mus[j], sigmas[j]).pdf(xs)\n",
    "        ws /= ws.sum(0)\n",
    "\n",
    "        # M-step\n",
    "        pis = ws.sum(axis=1)\n",
    "        pis /= n\n",
    "\n",
    "        mus = np.dot(ws, xs)\n",
    "        mus /= ws.sum(1)[:, None]\n",
    "\n",
    "        sigmas = np.zeros((k, p, p))\n",
    "        for j in range(k):\n",
    "            ys = xs - mus[j, :]\n",
    "            sigmas[j] = (ws[j,:,None,None] * mm(ys[:,:,None], ys[:,None,:])).sum(axis=0)\n",
    "        sigmas /= ws.sum(axis=1)[:,None,None]\n",
    "\n",
    "        # update complete log likelihoood \n",
    "        ll_new = 0\n",
    "        for pi, mu, sigma in zip(pis, mus, sigmas):\n",
    "            ll_new += pi*mvn(mu, sigma).pdf(xs)\n",
    "        ll_new = np.log(ll_new).sum()\n",
    "\n",
    "        if np.abs(ll_new - ll_old) < tol:\n",
    "            break\n",
    "        ll_old = ll_new\n",
    "\n",
    "    return ll_new, pis, mus, sigmas"
   ]
  },
  {
   "cell_type": "markdown",
   "metadata": {},
   "source": [
    "Vectorization with Einstein summation notation\n",
    "----\n",
    "\n",
    "The Einstein summation notation is way to specify potetnially complex vector, matrix and tensor operations using a very compact syntax invented by Albert Einstein. However, like broadcasting, the syntax can take some getting used to. For a nice, gentle introudction, see this [blog post](http://ajcr.net/Basic-guide-to-einsum/). Remember that others might need to understand your code too, and `einsum` is likely to be cryptic to most programmers."
   ]
  },
  {
   "cell_type": "code",
   "execution_count": 71,
   "metadata": {
    "collapsed": false
   },
   "outputs": [],
   "source": [
    "def em_gmm_eins(xs, pis, mus, sigmas, tol=0.01, max_iter=100):\n",
    "\n",
    "    n, p = xs.shape\n",
    "    k = len(pis)\n",
    "\n",
    "    ll_old = 0\n",
    "    for i in range(max_iter):\n",
    "        exp_A = []\n",
    "        exp_B = []\n",
    "        ll_new = 0\n",
    "\n",
    "        # E-step\n",
    "        ws = np.zeros((k, n))\n",
    "        for j, (pi, mu, sigma) in enumerate(zip(pis, mus, sigmas)):\n",
    "            ws[j, :] = pi * mvn(mu, sigma).pdf(xs)\n",
    "        ws /= ws.sum(0)\n",
    "\n",
    "        # M-step\n",
    "        pis = np.einsum('ij->i', ws)/n\n",
    "        mus = np.einsum('ij,jk -> ik', ws, xs)/ws.sum(1)[:, None]\n",
    "        sigmas = np.einsum('ij,ijk,ijl -> ikl', ws, \n",
    "            xs-mus[:,None,:], xs-mus[:,None,:])/ws.sum(axis=1)[:,None,None]\n",
    "\n",
    "        # update complete log likelihoood \n",
    "        ll_new = 0\n",
    "        for pi, mu, sigma in zip(pis, mus, sigmas):\n",
    "            ll_new += pi*mvn(mu, sigma).pdf(xs)\n",
    "        ll_new = np.log(ll_new).sum()\n",
    "\n",
    "        if np.abs(ll_new - ll_old) < tol:\n",
    "            break\n",
    "        ll_old = ll_new\n",
    "\n",
    "    return ll_new, pis, mus, sigmas"
   ]
  },
  {
   "cell_type": "markdown",
   "metadata": {},
   "source": [
    "Comparison of EM routines\n",
    "----"
   ]
  },
  {
   "cell_type": "code",
   "execution_count": null,
   "metadata": {
    "collapsed": false
   },
   "outputs": [],
   "source": [
    "np.random.seed(123)\n",
    "\n",
    "# create data set\n",
    "n = 1000\n",
    "_mus = np.array([[0,4], [-2,0]])\n",
    "_sigmas = np.array([[[3, 0], [0, 0.5]], [[1,0],[0,2]]])\n",
    "_pis = np.array([0.6, 0.4])\n",
    "xs = np.concatenate([np.random.multivariate_normal(mu, sigma, int(pi*n)) \n",
    "                    for pi, mu, sigma in zip(_pis, _mus, _sigmas)])\n",
    "\n",
    "# initial guesses for parameters\n",
    "pis = normalize(np.random.random(2))\n",
    "mus = np.random.random((2,2))\n",
    "sigmas = np.array([np.eye(2)] * 2)"
   ]
  },
  {
   "cell_type": "code",
   "execution_count": null,
   "metadata": {
    "collapsed": false
   },
   "outputs": [],
   "source": [
    "%%time\n",
    "ll1, pis1, mus1, sigmas1 = em_gmm_orig(xs, pis, mus, sigmas)"
   ]
  },
  {
   "cell_type": "code",
   "execution_count": null,
   "metadata": {
    "collapsed": false
   },
   "outputs": [],
   "source": [
    "intervals = 101\n",
    "ys = np.linspace(-8,8,intervals)\n",
    "X, Y = np.meshgrid(ys, ys)\n",
    "_ys = np.vstack([X.ravel(), Y.ravel()]).T\n",
    "\n",
    "z = np.zeros(len(_ys))\n",
    "for pi, mu, sigma in zip(pis1, mus1, sigmas1):\n",
    "    z += pi*mvn(mu, sigma).pdf(_ys)\n",
    "z = z.reshape((intervals, intervals))\n",
    "\n",
    "ax = plt.subplot(111)\n",
    "plt.scatter(xs[:,0], xs[:,1], alpha=0.2)\n",
    "plt.contour(X, Y, z, N=10)\n",
    "plt.axis([-8,6,-6,8])\n",
    "ax.axes.set_aspect('equal')\n",
    "plt.tight_layout()"
   ]
  },
  {
   "cell_type": "code",
   "execution_count": null,
   "metadata": {
    "collapsed": false
   },
   "outputs": [],
   "source": [
    "%%time\n",
    "ll2, pis2, mus2, sigmas2 = em_gmm_vect(xs, pis, mus, sigmas)"
   ]
  },
  {
   "cell_type": "code",
   "execution_count": null,
   "metadata": {
    "collapsed": false
   },
   "outputs": [],
   "source": [
    "intervals = 101\n",
    "ys = np.linspace(-8,8,intervals)\n",
    "X, Y = np.meshgrid(ys, ys)\n",
    "_ys = np.vstack([X.ravel(), Y.ravel()]).T\n",
    "\n",
    "z = np.zeros(len(_ys))\n",
    "for pi, mu, sigma in zip(pis2, mus2, sigmas2):\n",
    "    z += pi*mvn(mu, sigma).pdf(_ys)\n",
    "z = z.reshape((intervals, intervals))\n",
    "\n",
    "ax = plt.subplot(111)\n",
    "plt.scatter(xs[:,0], xs[:,1], alpha=0.2)\n",
    "plt.contour(X, Y, z, N=10)\n",
    "plt.axis([-8,6,-6,8])\n",
    "ax.axes.set_aspect('equal')\n",
    "plt.tight_layout()"
   ]
  },
  {
   "cell_type": "code",
   "execution_count": null,
   "metadata": {
    "collapsed": false
   },
   "outputs": [],
   "source": [
    "%%time\n",
    "ll3, pis3, mus3, sigmas3 = em_gmm_eins(xs, pis, mus, sigmas)"
   ]
  },
  {
   "cell_type": "code",
   "execution_count": null,
   "metadata": {
    "collapsed": false
   },
   "outputs": [],
   "source": [
    "# %timeit em_gmm_orig(xs, pis, mus, sigmas)\n",
    "%timeit em_gmm_vect(xs, pis, mus, sigmas)\n",
    "%timeit em_gmm_eins(xs, pis, mus, sigmas)"
   ]
  },
  {
   "cell_type": "code",
   "execution_count": null,
   "metadata": {
    "collapsed": false
   },
   "outputs": [],
   "source": [
    "intervals = 101\n",
    "ys = np.linspace(-8,8,intervals)\n",
    "X, Y = np.meshgrid(ys, ys)\n",
    "_ys = np.vstack([X.ravel(), Y.ravel()]).T\n",
    "\n",
    "z = np.zeros(len(_ys))\n",
    "for pi, mu, sigma in zip(pis3, mus3, sigmas3):\n",
    "    z += pi*mvn(mu, sigma).pdf(_ys)\n",
    "z = z.reshape((intervals, intervals))\n",
    "\n",
    "ax = plt.subplot(111)\n",
    "plt.scatter(xs[:,0], xs[:,1], alpha=0.2)\n",
    "plt.contour(X, Y, z, N=10)\n",
    "plt.axis([-8,6,-6,8])\n",
    "ax.axes.set_aspect('equal')\n",
    "plt.tight_layout()"
   ]
  },
  {
   "cell_type": "code",
   "execution_count": null,
   "metadata": {
    "collapsed": false
   },
   "outputs": [],
   "source": []
  }
 ],
 "metadata": {
  "kernelspec": {
   "display_name": "Python 3",
   "language": "python",
   "name": "python3"
  },
  "language_info": {
   "codemirror_mode": {
    "name": "ipython",
    "version": 3
   },
   "file_extension": ".py",
   "mimetype": "text/x-python",
   "name": "python",
   "nbconvert_exporter": "python",
   "pygments_lexer": "ipython3",
   "version": "3.5.0"
  }
 },
 "nbformat": 4,
 "nbformat_minor": 0
}

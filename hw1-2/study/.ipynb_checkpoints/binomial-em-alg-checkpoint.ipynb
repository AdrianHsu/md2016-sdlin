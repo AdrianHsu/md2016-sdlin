{
 "cells": [
  {
   "cell_type": "code",
   "execution_count": 1,
   "metadata": {
    "collapsed": false
   },
   "outputs": [
    {
     "name": "stdout",
     "output_type": "stream",
     "text": [
      "[[0.79678875938310978, 0.51958393567528027], 14]\n"
     ]
    }
   ],
   "source": [
    "import numpy as np\n",
    "from scipy import stats\n",
    "import matplotlib.pyplot as plt\n",
    "import seaborn as sns\n",
    "%matplotlib inline\n",
    "\n",
    "#http://nipunbatra.github.io/2014/04/em/\n",
    "\n",
    "observations = np.array([[1,0,0,0,1,1,0,1,0,1],\n",
    "                         [1,1,1,1,0,1,1,1,1,1],\n",
    "                         [1,0,1,1,1,1,1,0,1,1],\n",
    "                         [1,0,1,0,0,0,1,1,0,0],\n",
    "                         [0,1,1,1,0,1,1,1,0,1]])\n",
    "\n",
    "coins_id = np.array([False,True,True,False,True])\n",
    "\n",
    "def em_single(priors, observations):\n",
    "    \"\"\"\n",
    "    Performs a single EM step\n",
    "    Arguments\n",
    "    ---------\n",
    "    priors : [theta_A, theta_B]\n",
    "    observations : [m X n matrix]\n",
    "    \n",
    "    Returns\n",
    "    --------\n",
    "    new_priors: [new_theta_A, new_theta_B]\n",
    "    \"\"\"\n",
    "    counts = {'A':{'H':0,'T':0}, 'B':{'H':0,'T':0}}\n",
    "    theta_A = priors[0]\n",
    "    theta_B = priors[1]\n",
    "    # E step\n",
    "    for observation in observations: \n",
    "        len_observation = len(observation)\n",
    "        num_heads = observation.sum()\n",
    "        num_tails = len_observation - num_heads\n",
    "        contribution_A = stats.binom.pmf(num_heads,len_observation,theta_A)\n",
    "        contribution_B = stats.binom.pmf(num_heads,len_observation,theta_B)\n",
    "        weight_A = contribution_A/(contribution_A+contribution_B)\n",
    "        weight_B = contribution_B/(contribution_A+contribution_B)\n",
    "        # Incrementing counts\n",
    "        counts['A']['H']+= weight_A*num_heads\n",
    "        counts['A']['T']+= weight_A*num_tails\n",
    "        counts['B']['H']+= weight_B*num_heads\n",
    "        counts['B']['T']+= weight_B*num_tails\n",
    "    # M step\n",
    "    new_theta_A = counts['A']['H']/(counts['A']['H']+counts['A']['T'])\n",
    "    new_theta_B = counts['B']['H']/(counts['B']['H']+counts['B']['T'])\n",
    "    return [new_theta_A, new_theta_B]\n",
    "\n",
    "def em(observations, prior, tol=1e-6, iterations=10000):\n",
    "    import math\n",
    "    iteration = 0\n",
    "    while iteration<iterations:\n",
    "        new_prior = em_single(prior, observations)\n",
    "        delta_change = np.abs(prior[0]-new_prior[0])\n",
    "        if delta_change<tol:\n",
    "            break\n",
    "        else:\n",
    "            prior = new_prior\n",
    "            iteration+=1\n",
    "    return [new_prior, iteration]\n",
    "\n",
    "print ( em(observations, [0.6,0.5]) )\n"
   ]
  }
 ],
 "metadata": {
  "kernelspec": {
   "display_name": "Python 3",
   "language": "python",
   "name": "python3"
  },
  "language_info": {
   "codemirror_mode": {
    "name": "ipython",
    "version": 3
   },
   "file_extension": ".py",
   "mimetype": "text/x-python",
   "name": "python",
   "nbconvert_exporter": "python",
   "pygments_lexer": "ipython3",
   "version": "3.5.0"
  }
 },
 "nbformat": 4,
 "nbformat_minor": 1
}
